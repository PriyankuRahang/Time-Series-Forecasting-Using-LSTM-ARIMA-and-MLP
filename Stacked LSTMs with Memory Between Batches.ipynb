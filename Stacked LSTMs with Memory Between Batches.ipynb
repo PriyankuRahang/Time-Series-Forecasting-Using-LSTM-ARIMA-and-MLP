{
 "cells": [
  {
   "cell_type": "code",
   "execution_count": 1,
   "metadata": {},
   "outputs": [],
   "source": [
    "# Stacked LSTM for rice production of India problem with memory\n",
    "import numpy\n",
    "import matplotlib.pyplot as plt\n",
    "from pandas import read_csv\n",
    "import math\n",
    "from keras.models import Sequential\n",
    "from keras.layers import Dense\n",
    "from keras.layers import LSTM\n",
    "from sklearn.preprocessing import MinMaxScaler\n",
    "from sklearn.metrics import mean_squared_error"
   ]
  },
  {
   "cell_type": "code",
   "execution_count": 3,
   "metadata": {
    "scrolled": true
   },
   "outputs": [],
   "source": [
    "# convert an array of values into a dataset matrix\n",
    "def create_dataset(dataset, look_back=1):\n",
    "\tdataX, dataY = [], []\n",
    "\tfor i in range(len(dataset)-look_back-1):\n",
    "\t\ta = dataset[i:(i+look_back), 0]\n",
    "\t\tdataX.append(a)\n",
    "\t\tdataY.append(dataset[i + look_back, 0])\n",
    "\treturn numpy.array(dataX), numpy.array(dataY)"
   ]
  },
  {
   "cell_type": "code",
   "execution_count": 4,
   "metadata": {},
   "outputs": [],
   "source": [
    "# fix random seed for reproducibility\n",
    "numpy.random.seed(7)"
   ]
  },
  {
   "cell_type": "code",
   "execution_count": 5,
   "metadata": {},
   "outputs": [],
   "source": [
    "# load the dataset\n",
    "dataframe = read_csv('rice production of India.csv', usecols=[1], engine='python')\n",
    "dataset = dataframe.values\n",
    "dataset = dataset.astype('float32')"
   ]
  },
  {
   "cell_type": "code",
   "execution_count": 6,
   "metadata": {},
   "outputs": [],
   "source": [
    "# normalize the dataset\n",
    "scaler = MinMaxScaler(feature_range=(0, 1))\n",
    "dataset = scaler.fit_transform(dataset)"
   ]
  },
  {
   "cell_type": "code",
   "execution_count": 7,
   "metadata": {},
   "outputs": [],
   "source": [
    "# split into train and test sets\n",
    "train_size = int(len(dataset) * 0.67)\n",
    "test_size = len(dataset) - train_size\n",
    "train, test = dataset[0:train_size,:], dataset[train_size:len(dataset),:]"
   ]
  },
  {
   "cell_type": "code",
   "execution_count": 8,
   "metadata": {},
   "outputs": [],
   "source": [
    "# reshape into X=t and Y=t+1\n",
    "look_back = 3\n",
    "trainX, trainY = create_dataset(train, look_back)\n",
    "testX, testY = create_dataset(test, look_back)"
   ]
  },
  {
   "cell_type": "code",
   "execution_count": 9,
   "metadata": {},
   "outputs": [],
   "source": [
    "# reshape input to be [samples, time steps, features]\n",
    "trainX = numpy.reshape(trainX, (trainX.shape[0], trainX.shape[1], 1))\n",
    "testX = numpy.reshape(testX, (testX.shape[0], testX.shape[1], 1))"
   ]
  },
  {
   "cell_type": "code",
   "execution_count": 10,
   "metadata": {},
   "outputs": [
    {
     "name": "stdout",
     "output_type": "stream",
     "text": [
      "36/36 - 4s - loss: 0.0525\n",
      "36/36 - 0s - loss: 0.0180\n",
      "36/36 - 0s - loss: 0.0193\n",
      "36/36 - 0s - loss: 0.0139\n",
      "36/36 - 0s - loss: 0.0082\n",
      "36/36 - 0s - loss: 0.0047\n",
      "36/36 - 0s - loss: 0.0040\n",
      "36/36 - 0s - loss: 0.0038\n",
      "36/36 - 0s - loss: 0.0035\n",
      "36/36 - 0s - loss: 0.0032\n",
      "36/36 - 0s - loss: 0.0031\n",
      "36/36 - 0s - loss: 0.0030\n",
      "36/36 - 0s - loss: 0.0029\n",
      "36/36 - 0s - loss: 0.0028\n",
      "36/36 - 0s - loss: 0.0028\n",
      "36/36 - 0s - loss: 0.0027\n",
      "36/36 - 0s - loss: 0.0027\n",
      "36/36 - 0s - loss: 0.0027\n",
      "36/36 - 0s - loss: 0.0027\n",
      "36/36 - 0s - loss: 0.0026\n",
      "36/36 - 0s - loss: 0.0026\n",
      "36/36 - 0s - loss: 0.0026\n",
      "36/36 - 0s - loss: 0.0026\n",
      "36/36 - 0s - loss: 0.0026\n",
      "36/36 - 0s - loss: 0.0025\n",
      "36/36 - 0s - loss: 0.0025\n",
      "36/36 - 0s - loss: 0.0025\n",
      "36/36 - 0s - loss: 0.0025\n",
      "36/36 - 0s - loss: 0.0025\n",
      "36/36 - 0s - loss: 0.0025\n",
      "36/36 - 0s - loss: 0.0025\n",
      "36/36 - 0s - loss: 0.0025\n",
      "36/36 - 0s - loss: 0.0025\n",
      "36/36 - 0s - loss: 0.0024\n",
      "36/36 - 0s - loss: 0.0024\n",
      "36/36 - 0s - loss: 0.0024\n",
      "36/36 - 0s - loss: 0.0024\n",
      "36/36 - 0s - loss: 0.0024\n",
      "36/36 - 0s - loss: 0.0024\n",
      "36/36 - 0s - loss: 0.0024\n",
      "36/36 - 0s - loss: 0.0024\n",
      "36/36 - 0s - loss: 0.0024\n",
      "36/36 - 0s - loss: 0.0024\n",
      "36/36 - 0s - loss: 0.0024\n",
      "36/36 - 0s - loss: 0.0024\n",
      "36/36 - 0s - loss: 0.0024\n",
      "36/36 - 0s - loss: 0.0024\n",
      "36/36 - 0s - loss: 0.0024\n",
      "36/36 - 0s - loss: 0.0023\n",
      "36/36 - 0s - loss: 0.0023\n",
      "36/36 - 0s - loss: 0.0023\n",
      "36/36 - 0s - loss: 0.0023\n",
      "36/36 - 0s - loss: 0.0023\n",
      "36/36 - 0s - loss: 0.0023\n",
      "36/36 - 0s - loss: 0.0023\n",
      "36/36 - 0s - loss: 0.0023\n",
      "36/36 - 0s - loss: 0.0023\n",
      "36/36 - 0s - loss: 0.0023\n",
      "36/36 - 0s - loss: 0.0023\n",
      "36/36 - 0s - loss: 0.0023\n",
      "36/36 - 0s - loss: 0.0023\n",
      "36/36 - 0s - loss: 0.0023\n",
      "36/36 - 0s - loss: 0.0023\n",
      "36/36 - 0s - loss: 0.0023\n",
      "36/36 - 0s - loss: 0.0023\n",
      "36/36 - 0s - loss: 0.0023\n",
      "36/36 - 0s - loss: 0.0023\n",
      "36/36 - 0s - loss: 0.0023\n",
      "36/36 - 0s - loss: 0.0023\n",
      "36/36 - 0s - loss: 0.0023\n",
      "36/36 - 0s - loss: 0.0023\n",
      "36/36 - 0s - loss: 0.0023\n",
      "36/36 - 0s - loss: 0.0023\n",
      "36/36 - 0s - loss: 0.0023\n",
      "36/36 - 0s - loss: 0.0022\n",
      "36/36 - 0s - loss: 0.0022\n",
      "36/36 - 0s - loss: 0.0022\n",
      "36/36 - 0s - loss: 0.0022\n",
      "36/36 - 0s - loss: 0.0022\n",
      "36/36 - 0s - loss: 0.0022\n",
      "36/36 - 0s - loss: 0.0022\n",
      "36/36 - 0s - loss: 0.0022\n",
      "36/36 - 0s - loss: 0.0022\n",
      "36/36 - 0s - loss: 0.0022\n",
      "36/36 - 0s - loss: 0.0022\n",
      "36/36 - 0s - loss: 0.0022\n",
      "36/36 - 0s - loss: 0.0022\n",
      "36/36 - 0s - loss: 0.0022\n",
      "36/36 - 0s - loss: 0.0022\n",
      "36/36 - 0s - loss: 0.0022\n",
      "36/36 - 0s - loss: 0.0022\n",
      "36/36 - 0s - loss: 0.0022\n",
      "36/36 - 0s - loss: 0.0022\n",
      "36/36 - 0s - loss: 0.0022\n",
      "36/36 - 0s - loss: 0.0022\n",
      "36/36 - 0s - loss: 0.0022\n",
      "36/36 - 0s - loss: 0.0022\n",
      "36/36 - 0s - loss: 0.0022\n",
      "36/36 - 0s - loss: 0.0022\n",
      "36/36 - 0s - loss: 0.0022\n"
     ]
    }
   ],
   "source": [
    "# create and fit the LSTM network\n",
    "batch_size = 1\n",
    "model = Sequential()\n",
    "model.add(LSTM(4, batch_input_shape=(batch_size, look_back, 1), stateful=True, return_sequences=True))\n",
    "model.add(LSTM(4, batch_input_shape=(batch_size, look_back, 1), stateful=True))\n",
    "model.add(Dense(1))\n",
    "model.compile(loss='mean_squared_error', optimizer='adam')\n",
    "for i in range(100):\n",
    "\tmodel.fit(trainX, trainY, epochs=1, batch_size=batch_size, verbose=2, shuffle=False)\n",
    "\tmodel.reset_states()"
   ]
  },
  {
   "cell_type": "code",
   "execution_count": 11,
   "metadata": {},
   "outputs": [],
   "source": [
    "# make predictions\n",
    "trainPredict = model.predict(trainX, batch_size=batch_size)\n",
    "model.reset_states()\n",
    "testPredict = model.predict(testX, batch_size=batch_size)"
   ]
  },
  {
   "cell_type": "code",
   "execution_count": 12,
   "metadata": {},
   "outputs": [],
   "source": [
    "# invert predictions\n",
    "trainPredict = scaler.inverse_transform(trainPredict)\n",
    "trainY = scaler.inverse_transform([trainY])\n",
    "testPredict = scaler.inverse_transform(testPredict)\n",
    "testY = scaler.inverse_transform([testY])"
   ]
  },
  {
   "cell_type": "code",
   "execution_count": 13,
   "metadata": {},
   "outputs": [
    {
     "name": "stdout",
     "output_type": "stream",
     "text": [
      "Train Score: 4124.24 RMSE\n",
      "Test Score: 23851.26 RMSE\n"
     ]
    }
   ],
   "source": [
    "# calculate root mean squared error\n",
    "trainScore = math.sqrt(mean_squared_error(trainY[0], trainPredict[:,0]))\n",
    "print('Train Score: %.2f RMSE' % (trainScore))\n",
    "testScore = math.sqrt(mean_squared_error(testY[0], testPredict[:,0]))\n",
    "print('Test Score: %.2f RMSE' % (testScore))"
   ]
  },
  {
   "cell_type": "code",
   "execution_count": 14,
   "metadata": {},
   "outputs": [],
   "source": [
    "# shift train predictions for plotting\n",
    "trainPredictPlot = numpy.empty_like(dataset)\n",
    "trainPredictPlot[:, :] = numpy.nan\n",
    "trainPredictPlot[look_back:len(trainPredict)+look_back, :] = trainPredict"
   ]
  },
  {
   "cell_type": "code",
   "execution_count": 15,
   "metadata": {},
   "outputs": [],
   "source": [
    "# shift test predictions for plotting\n",
    "testPredictPlot = numpy.empty_like(dataset)\n",
    "testPredictPlot[:, :] = numpy.nan\n",
    "testPredictPlot[len(trainPredict)+(look_back*2)+1:len(dataset)-1, :] = testPredict"
   ]
  },
  {
   "cell_type": "code",
   "execution_count": 16,
   "metadata": {},
   "outputs": [
    {
     "data": {
      "image/png": "[encoded data removed]",
      "text/plain": [
       "<Figure size 432x288 with 1 Axes>"
      ]
     },
     "metadata": {
      "needs_background": "light"
     },
     "output_type": "display_data"
    }
   ],
   "source": [
    "# plot baseline and predictions\n",
    "plt.plot(scaler.inverse_transform(dataset))\n",
    "plt.plot(trainPredictPlot)\n",
    "plt.plot(testPredictPlot)\n",
    "plt.show()"
   ]
  },
  {
   "cell_type": "code",
   "execution_count": null,
   "metadata": {},
   "outputs": [],
   "source": []
  }
 ],
 "metadata": {
  "kernelspec": {
   "display_name": "Python 3",
   "language": "python",
   "name": "python3"
  },
  "language_info": {
   "codemirror_mode": {
    "name": "ipython",
    "version": 3
   },
   "file_extension": ".py",
   "mimetype": "text/x-python",
   "name": "python",
   "nbconvert_exporter": "python",
   "pygments_lexer": "ipython3",
   "version": "3.8.5"
  }
 },
 "nbformat": 4,
 "nbformat_minor": 4
}
